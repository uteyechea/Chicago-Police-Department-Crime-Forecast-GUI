{
 "cells": [
  {
   "cell_type": "code",
   "execution_count": 21,
   "metadata": {},
   "outputs": [],
   "source": [
    "import numpy as np"
   ]
  },
  {
   "cell_type": "code",
   "execution_count": 22,
   "metadata": {},
   "outputs": [],
   "source": [
    "def beat_polygon_vertex(beat_tally=303,beat_grid_vertex=None):\n",
    "    \n",
    "    #Number of beats inside the square grid selected previously\n",
    "    number_of_beats_per_side=np.around(np.sqrt(beat_tally),0)\n",
    "    \n",
    "    height=abs(beat_grid_vertex['top'][0][0]-beat_grid_vertex['bottom'][0][0])\n",
    "    width=abs(beat_grid_vertex['top'][0][1]-beat_grid_vertex['top'][1][1])\n",
    "    delta_longitude=width/number_of_beats_per_side**2\n",
    "    delta_latitude=height/number_of_beats_per_side**2\n",
    "    \n",
    "    #Grid starting coordinates (Top left vertex, assuming a square)\n",
    "    latitude=beat_grid_vertex['top'][0][0]\n",
    "    longitude=beat_grid_vertex['top'][0][1]\n",
    "\n",
    "    beat={}\n",
    "    for n in range(beat_tally):\n",
    "        top_left=[latitude-(n*delta_latitude),longitude+(n*delta_longitude)]\n",
    "        top_right=[latitude-(n*delta_latitude),longitude+((n+1)*delta_longitude)]\n",
    "        bottom_left=[latitude-((n+1)*delta_latitude),longitude+(n*delta_longitude)]\n",
    "        bottom_right=[latitude-((n+1)*delta_latitude),longitude+((n+1)*delta_longitude)]\n",
    "    \n",
    "        beat[n]=[top_left, top_right, bottom_left, bottom_right]\n",
    "        \n",
    "    return beat "
   ]
  },
  {
   "cell_type": "code",
   "execution_count": 24,
   "metadata": {},
   "outputs": [
    {
     "data": {
      "text/plain": [
       "\"\\n#Record vertex of square on top of city of interest\\nbeat_grid_vertex={'top':[[29.1540,-111.0070],[29.1540,-110.9400]],\\n                  'bottom':[[29.0080,-111.0070],[29.0080,-110.9400]]\\n                  }\\n\\n#Map coordinates per beat\\nbeat=beat_polygon_vertex(beat_grid_vertex=beat_grid_vertex)\\nprint(beat)\\n\\n\""
      ]
     },
     "execution_count": 24,
     "metadata": {},
     "output_type": "execute_result"
    }
   ],
   "source": [
    "#Usage example\n",
    "\"\"\"\n",
    "#Record vertex of square on top of city of interest\n",
    "beat_grid_vertex={'top':[[29.1540,-111.0070],[29.1540,-110.9400]],\n",
    "                  'bottom':[[29.0080,-111.0070],[29.0080,-110.9400]]\n",
    "                  }\n",
    "\n",
    "#Map coordinates per beat\n",
    "beat=beat_polygon_vertex(beat_grid_vertex=beat_grid_vertex)\n",
    "print(beat)\n",
    "\n",
    "\"\"\""
   ]
  },
  {
   "cell_type": "code",
   "execution_count": null,
   "metadata": {},
   "outputs": [],
   "source": []
  }
 ],
 "metadata": {
  "kernelspec": {
   "display_name": "Python 3",
   "language": "python",
   "name": "python3"
  },
  "language_info": {
   "codemirror_mode": {
    "name": "ipython",
    "version": 3
   },
   "file_extension": ".py",
   "mimetype": "text/x-python",
   "name": "python",
   "nbconvert_exporter": "python",
   "pygments_lexer": "ipython3",
   "version": "3.8.3"
  }
 },
 "nbformat": 4,
 "nbformat_minor": 4
}
