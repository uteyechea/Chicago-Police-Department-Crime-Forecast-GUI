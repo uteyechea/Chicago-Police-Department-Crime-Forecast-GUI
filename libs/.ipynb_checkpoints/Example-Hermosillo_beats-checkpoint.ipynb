{
 "cells": [
  {
   "cell_type": "code",
   "execution_count": 1,
   "metadata": {},
   "outputs": [],
   "source": [
    "import dash_leaflet as dl\n",
    "import numpy as np\n",
    "import pandas as pd"
   ]
  },
  {
   "cell_type": "code",
   "execution_count": 2,
   "metadata": {},
   "outputs": [],
   "source": [
    "hermosillo_coordinates = (29.0730,-110.9559)\n",
    "\n",
    "# Some shapes.\n",
    "markers = [dl.Marker(position=[56, 10]), dl.CircleMarker(center=[55, 10])]\n",
    "polygon = dl.Polygon(positions=[[57, 10], [57, 11], [56, 11], [57, 10]])\n",
    "polygon2 = dl.Polygon(positions=[ [29.1,-110.955] ,[29.1,-110.95],[29.095,-110.95],[29.095,-110.955] ],color='red') \n",
    "#positions=[[top_left],[top_right],[bottom_right],[bottom_left]]\n",
    "polygon3 = dl.Polygon(positions=[ [29.160,-110.970] ,[29.160,-110.965],[29.155,-110.965],[29.155,-110.970] ]) \n",
    "\n",
    "burglary={}\n",
    "for i in range(0,10):\n",
    "\n",
    "    latitude=np.random.randn()*.025+hermosillo_coordinates[0]\n",
    "    longitude=np.random.randn()*.025+hermosillo_coordinates[1]\n",
    "    top_left=[latitude,longitude]\n",
    "    top_right=[latitude,longitude+0.005]\n",
    "    bottom_left=[latitude-0.005,longitude+0.005]\n",
    "    bottom_right=[latitude-0.005,longitude]\n",
    "    \n",
    "    burglary[i]=dl.Polygon(positions=[ top_left ,top_right,bottom_left,bottom_right ],color='purple')\n",
    "\n",
    "murder={}\n",
    "for i in range(0,4):\n",
    "\n",
    "    latitude=np.random.randn()*.025+hermosillo_coordinates[0]\n",
    "    longitude=np.random.randn()*.025+hermosillo_coordinates[1]\n",
    "    top_left=[latitude,longitude]\n",
    "    top_right=[latitude,longitude+0.005]\n",
    "    bottom_left=[latitude-0.005,longitude+0.005]\n",
    "    bottom_right=[latitude-0.005,longitude]\n",
    "    \n",
    "    murder[i]=dl.Polygon(positions=[ top_left ,top_right,bottom_left,bottom_right ],color='blue')\n",
    "\n",
    "kidnapping={}\n",
    "for i in range(0,6):\n",
    "\n",
    "    latitude=np.random.randn()*.025+hermosillo_coordinates[0]\n",
    "    longitude=np.random.randn()*.025+hermosillo_coordinates[1]\n",
    "    top_left=[latitude,longitude]\n",
    "    top_right=[latitude,longitude+0.005]\n",
    "    bottom_left=[latitude-0.005,longitude+0.005]\n",
    "    bottom_right=[latitude-0.005,longitude]\n",
    "    \n",
    "    kidnapping[i]=dl.Polygon(positions=[ top_left ,top_right,bottom_left,bottom_right ],color='red')\n"
   ]
  },
  {
   "cell_type": "code",
   "execution_count": 3,
   "metadata": {},
   "outputs": [
    {
     "data": {
      "text/plain": [
       "{0: Polygon(positions=[[29.05261363463551, -110.97013391642395], [29.05261363463551, -110.96513391642395], [29.04761363463551, -110.96513391642395], [29.04761363463551, -110.97013391642395]], color='red'),\n",
       " 1: Polygon(positions=[[29.047325818405838, -110.969003811574], [29.047325818405838, -110.964003811574], [29.04232581840584, -110.964003811574], [29.04232581840584, -110.969003811574]], color='red'),\n",
       " 2: Polygon(positions=[[29.072777388228033, -110.94731068365863], [29.072777388228033, -110.94231068365863], [29.067777388228034, -110.94231068365863], [29.067777388228034, -110.94731068365863]], color='red'),\n",
       " 3: Polygon(positions=[[29.0793766466317, -110.93891669558707], [29.0793766466317, -110.93391669558707], [29.074376646631702, -110.93391669558707], [29.074376646631702, -110.93891669558707]], color='red'),\n",
       " 4: Polygon(positions=[[29.11042697993231, -111.00294030939295], [29.11042697993231, -110.99794030939296], [29.10542697993231, -110.99794030939296], [29.10542697993231, -111.00294030939295]], color='red'),\n",
       " 5: Polygon(positions=[[29.070103818991324, -110.94652934011476], [29.070103818991324, -110.94152934011477], [29.065103818991325, -110.94152934011477], [29.065103818991325, -110.94652934011476]], color='red')}"
      ]
     },
     "execution_count": 3,
     "metadata": {},
     "output_type": "execute_result"
    }
   ],
   "source": [
    "kidnapping"
   ]
  },
  {
   "cell_type": "code",
   "execution_count": 33,
   "metadata": {},
   "outputs": [],
   "source": []
  },
  {
   "cell_type": "code",
   "execution_count": 52,
   "metadata": {},
   "outputs": [],
   "source": []
  },
  {
   "cell_type": "code",
   "execution_count": 53,
   "metadata": {},
   "outputs": [
    {
     "data": {
      "text/plain": [
       "17.0"
      ]
     },
     "execution_count": 53,
     "metadata": {},
     "output_type": "execute_result"
    }
   ],
   "source": [
    "np.around(np.sqrt(303),0)"
   ]
  },
  {
   "cell_type": "code",
   "execution_count": 58,
   "metadata": {},
   "outputs": [],
   "source": []
  },
  {
   "cell_type": "code",
   "execution_count": 67,
   "metadata": {},
   "outputs": [],
   "source": [
    "def beat_polygon_vertex(beats_tally=303,beat_grid_vertex):\n",
    "    \n",
    "    #Number of beats inside the square grid selected previously\n",
    "    number_of_beats_per_side=np.around(np.sqrt(beats_tally),0)\n",
    "    \n",
    "    height=abs(beat_grid_vertex['top'][0][0]-beat_grid_vertex['bottom'][0][0])\n",
    "    width=abs(beat_grid_vertex['top'][0][1]-beat_grid_vertex['top'][1][1])\n",
    "    delta_longitude=width/number_of_beats_per_side**2\n",
    "    delta_latitude=height/number_of_beats_per_side**2\n",
    "    \n",
    "    #Grid starting coordinates (Top left vertex, assuming a square)\n",
    "    latitude=beat_grid_vertex['top'][0][0]\n",
    "    longitude=beat_grid_vertex['top'][0][1]\n",
    "\n",
    "    beat={}\n",
    "    for n in range(303):\n",
    "        top_left=[latitude-(n*delta_latitude),longitude+(n*delta_longitude)]\n",
    "        top_right=[latitude-(n*delta_latitude),longitude+((n+1)*delta_longitude)]\n",
    "        bottom_left=[latitude-((n+1)*delta_latitude),longitude+(n*delta_longitude)]\n",
    "        bottom_right=[latitude-((n+1)*delta_latitude),longitude+((n+1)*delta_longitude)]\n",
    "    \n",
    "        beat[n]=[top_left, top_right, bottom_left, bottom_right]\n",
    "        \n",
    "    return beat "
   ]
  },
  {
   "cell_type": "code",
   "execution_count": 68,
   "metadata": {},
   "outputs": [],
   "source": [
    "\"\"\"\n",
    "#Usage example\n",
    "\n",
    "#Record vertex of square on top of city of interest\n",
    "beat_grid_vertex={'top':[[29.1540,-111.0070],[29.1540,-110.9400]],\n",
    "                  'bottom':[[29.0080,-111.0070],[29.0080,-110.9400]]\n",
    "                  }\n",
    "\n",
    "#Map coordinates per beat\n",
    "beat=beat_polygon_vertex(beat_grid_vertex,number_of_beats_per_side)\n",
    "\"\"\"\n"
   ]
  }
 ],
 "metadata": {
  "kernelspec": {
   "display_name": "Python 3",
   "language": "python",
   "name": "python3"
  },
  "language_info": {
   "codemirror_mode": {
    "name": "ipython",
    "version": 3
   },
   "file_extension": ".py",
   "mimetype": "text/x-python",
   "name": "python",
   "nbconvert_exporter": "python",
   "pygments_lexer": "ipython3",
   "version": "3.8.3"
  }
 },
 "nbformat": 4,
 "nbformat_minor": 4
}
